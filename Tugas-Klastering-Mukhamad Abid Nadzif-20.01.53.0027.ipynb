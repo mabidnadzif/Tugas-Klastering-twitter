{
  "nbformat": 4,
  "nbformat_minor": 0,
  "metadata": {
    "colab": {
      "provenance": [],
      "collapsed_sections": []
    },
    "kernelspec": {
      "name": "python3",
      "display_name": "Python 3"
    },
    "language_info": {
      "name": "python"
    }
  },
  "cells": [
    {
      "cell_type": "markdown",
      "source": [
        "Melakukan intalasi snsscrape dengan perintah berikut :"
      ],
      "metadata": {
        "id": "SEiW9VERH7kH"
      }
    },
    {
      "cell_type": "code",
      "source": [
        "!pip3 install snscrape"
      ],
      "metadata": {
        "colab": {
          "base_uri": "https://localhost:8080/"
        },
        "id": "jNbSzqhgNUkx",
        "outputId": "b74bd16a-795f-46ba-ab86-adbc63700651"
      },
      "execution_count": 2,
      "outputs": [
        {
          "output_type": "stream",
          "name": "stdout",
          "text": [
            "Looking in indexes: https://pypi.org/simple, https://us-python.pkg.dev/colab-wheels/public/simple/\n",
            "Collecting snscrape\n",
            "  Downloading snscrape-0.3.4-py3-none-any.whl (35 kB)\n",
            "Requirement already satisfied: lxml in /usr/local/lib/python3.7/dist-packages (from snscrape) (4.9.1)\n",
            "Requirement already satisfied: beautifulsoup4 in /usr/local/lib/python3.7/dist-packages (from snscrape) (4.6.3)\n",
            "Requirement already satisfied: requests[socks] in /usr/local/lib/python3.7/dist-packages (from snscrape) (2.23.0)\n",
            "Requirement already satisfied: urllib3!=1.25.0,!=1.25.1,<1.26,>=1.21.1 in /usr/local/lib/python3.7/dist-packages (from requests[socks]->snscrape) (1.24.3)\n",
            "Requirement already satisfied: certifi>=2017.4.17 in /usr/local/lib/python3.7/dist-packages (from requests[socks]->snscrape) (2022.9.24)\n",
            "Requirement already satisfied: chardet<4,>=3.0.2 in /usr/local/lib/python3.7/dist-packages (from requests[socks]->snscrape) (3.0.4)\n",
            "Requirement already satisfied: idna<3,>=2.5 in /usr/local/lib/python3.7/dist-packages (from requests[socks]->snscrape) (2.10)\n",
            "Requirement already satisfied: PySocks!=1.5.7,>=1.5.6 in /usr/local/lib/python3.7/dist-packages (from requests[socks]->snscrape) (1.7.1)\n",
            "Installing collected packages: snscrape\n",
            "Successfully installed snscrape-0.3.4\n"
          ]
        }
      ]
    },
    {
      "cell_type": "markdown",
      "source": [
        "Setelah itu lakukan intalasi langdetect seperti perintah di bawah,  dimana langdetect berfungsi untuk mengimplementasi ulang pustaka deteksi bahasa Google ke Python"
      ],
      "metadata": {
        "id": "E0U2yLtSKvwT"
      }
    },
    {
      "cell_type": "code",
      "source": [
        "pip install langdetect"
      ],
      "metadata": {
        "colab": {
          "base_uri": "https://localhost:8080/"
        },
        "id": "_cpGkLAoZegb",
        "outputId": "a590fef9-0671-4546-c1b0-e92b24933614"
      },
      "execution_count": 1,
      "outputs": [
        {
          "output_type": "stream",
          "name": "stdout",
          "text": [
            "Looking in indexes: https://pypi.org/simple, https://us-python.pkg.dev/colab-wheels/public/simple/\n",
            "Collecting langdetect\n",
            "  Downloading langdetect-1.0.9.tar.gz (981 kB)\n",
            "\u001b[K     |████████████████████████████████| 981 kB 6.7 MB/s \n",
            "\u001b[?25hRequirement already satisfied: six in /usr/local/lib/python3.7/dist-packages (from langdetect) (1.15.0)\n",
            "Building wheels for collected packages: langdetect\n",
            "  Building wheel for langdetect (setup.py) ... \u001b[?25l\u001b[?25hdone\n",
            "  Created wheel for langdetect: filename=langdetect-1.0.9-py3-none-any.whl size=993242 sha256=a10660a12e0459c90c0895520812173a38137946aed91c4ecf49aaaeeebf8fc6\n",
            "  Stored in directory: /root/.cache/pip/wheels/c5/96/8a/f90c59ed25d75e50a8c10a1b1c2d4c402e4dacfa87f3aff36a\n",
            "Successfully built langdetect\n",
            "Installing collected packages: langdetect\n",
            "Successfully installed langdetect-1.0.9\n"
          ]
        }
      ]
    },
    {
      "cell_type": "markdown",
      "source": [
        "Import juga library seperti langkah berikut"
      ],
      "metadata": {
        "id": "y6R3H17iLQTC"
      }
    },
    {
      "cell_type": "code",
      "source": [
        "import snscrape.modules.twitter as sntwitter\n",
        "import json\n",
        "from langdetect import detect"
      ],
      "metadata": {
        "id": "TXJV6YeeZihZ"
      },
      "execution_count": 3,
      "outputs": []
    },
    {
      "cell_type": "markdown",
      "source": [
        "Masukan keyword / kata kunci yang akan kita lakukan proses pencarian topik di twitter, masukan juga tanggal mulai ( start ) dan tanggal akhir ( end ) untuk mendapatkan atau mengambil dari tanggal mulai dan akhir yang di tentukan / di masukkan, masukan juga ( max_num ) di mana perintah ini akan mmenghitung jumlah maksimum banyaknya data yang akan di ambil "
      ],
      "metadata": {
        "id": "glUPA10_Leyy"
      }
    },
    {
      "cell_type": "code",
      "source": [
        "keywords=['Mochamad Iriawan']\n",
        "start=\"2022–10–13\"\n",
        "end =\"2022–10–17\"\n",
        "max_num=100\n",
        "fname='tweet.json' \n",
        "languages=['id','en']"
      ],
      "metadata": {
        "id": "_sPucD-vZsz1"
      },
      "execution_count": 9,
      "outputs": []
    },
    {
      "cell_type": "markdown",
      "source": [
        "Kemudian import pandas"
      ],
      "metadata": {
        "id": "MGv_eeK7MdAT"
      }
    },
    {
      "cell_type": "code",
      "source": [
        "import pandas as pd\n",
        "datatw=[]"
      ],
      "metadata": {
        "id": "pf7ZIVlVzwy7"
      },
      "execution_count": 10,
      "outputs": []
    },
    {
      "cell_type": "markdown",
      "source": [
        "Selanjutnya masukkan beberapa perintah seperti di bawah ini, di mana fungsi dari perintah ini adalah melakukan pencarian dan menampilkan data pada twiter sesuai dengan apa yang kita tentukan di atas "
      ],
      "metadata": {
        "id": "IcLylnyiMpW7"
      }
    },
    {
      "cell_type": "code",
      "source": [
        "for keyword in keywords:\n",
        "   \n",
        "    for i, tweet in enumerate (sntwitter.TwitterSearchScraper(f'{keyword} ').get_items()):\n",
        "        \n",
        "        try:\n",
        "            lan=detect(tweet.content)\n",
        "        except:\n",
        "            lan='error'\n",
        "        if i == max_num:\n",
        "            break\n",
        "        if lan in languages:\n",
        "            data = {'id': tweet.id, 'username':tweet.username, 'date': tweet.date, 'text': tweet.content,'url':tweet.url}\n",
        "           # print(data)\n",
        "            datatw.append(tweet.content)\n",
        "            with open(fname, 'a+', encoding='utf-8') as f:\n",
        "                line = json.dumps(data, ensure_ascii=False,default=str)\n",
        "                #print(line)\n",
        "                f.write(line)\n",
        "                f.write('\\n')"
      ],
      "metadata": {
        "id": "1-8oNU5nZmMT"
      },
      "execution_count": 11,
      "outputs": []
    },
    {
      "cell_type": "markdown",
      "source": [],
      "metadata": {
        "id": "uvYrFAdZM-zs"
      }
    },
    {
      "cell_type": "code",
      "source": [
        "datatw"
      ],
      "metadata": {
        "id": "ER2Zx6Y90jj1",
        "outputId": "fe69e29b-ce93-4ae5-a06f-2aee2a3f8c5d",
        "colab": {
          "base_uri": "https://localhost:8080/"
        }
      },
      "execution_count": 12,
      "outputs": [
        {
          "output_type": "execute_result",
          "data": {
            "text/plain": [
              "['Polri akan memeriksa Ketua Umum PSSI, Mochamad Iriawan alias Iwan Bule terkait tragedi Stadion Kanjuruhan, Malang, Jawa Timur, Selasa besok (18/10) di Polda Jatim. https://t.co/6K7GzvOM7U',\n",
              " 'Pesan Ketum PSSI Kepada Timnas U-20 Indonesia Jelang TC ke Eropa: Jaga Nama Baik Indonesia https://t.co/VN4UPKFMo3 baca juga berita dari media lainnya di Indonesia di https://t.co/GkwQxScVr9 \\n\\n#pssi #mochamadiriawan #tc #timnasu20indonesia',\n",
              " 'Meski Ferli sudah memaparkan potensi kerawanan jika laga tetap digelar malam hari, Sudjarno tak menggubris. Sudjarno—yang merupakan rekan seangkatan Ketua Umum PSSI Komjen (Purn) Mochamad Iriawan di Akpol 1984—meminta pertandingan tetap digelar pukul 20.00 WIB.\\n\\n#specialreport',\n",
              " 'PSSI Legawa Terima Kekalahan dari Qatar Jadi Tuan Rumah Piala Asia 2023 https://t.co/kJyTjwKuAO baca juga berita dari media lainnya di Indonesia di https://t.co/GkwQxRUMd1 \\n\\n#pialaasia2023 #pialaasia #afc #pssi #mochamadiriawan',\n",
              " 'Pelatih timnas Indonesia, Shin Tae-yong, membela Ketua Umum PSSI, Mochamad Iriawan, diindikasi adanya intervensi dari pihak lain. Benarkah?\\nhttps://t.co/Qamq41qkI7',\n",
              " 'Pelatih timnas Indonesia, Shin Tae-yong, membela Ketua Umum PSSI, Mochamad Iriawan, diindikasi adanya intervensi dari pihak lain. Benarkah?\\nhttps://t.co/mFYn2mv4QS',\n",
              " 'Salah satu rekomendasi yang dikeluarkan TGIPF adalah agar Ketua Umum @PSSI \\nMochamad Iriawan atau Iwan Bule beserta seluruh jajaran Komite Eksekutif PSSI mengundurkan diri.\\n\\n#PSSI #TGIPF #TragediKanjuruhan \\n\\nhttps://t.co/f89AqPr3SV',\n",
              " 'Dibela STY Habis-Habisan, Inilah Sosok Iwan Bule, Purnawirawan Polri yang Menjabat Ketum PSSI @soclyfecom https://t.co/0OwL1EWOKu #MochamadIriawan #iwanbule #biodataiwanbule #ketuapssi #shintaeyong #STY #pelatihkesebelasanSTY #kanjuruhan #insidenkanjuruhan #tragedikanjuruhan https://t.co/w6inYzC1Qp',\n",
              " 'Daftar 34 Pemain Timnas Indonesia U-20 yang Ikut TC di Turki dan Spanyol: Terdapat 34 pemain Timnas Indonesia U-20 yang mengikuti training camp (TC) di Turki dan Spanyol. Pelatih Timnas Indonesia… https://t.co/aogECOcCq2 #Bola #timnasindonesiau20 #shintaeyong #mochamadiriawan',\n",
              " 'https://t.co/ylSL6WczkP\\n\\nPolri menjadwalkan pemeriksaan terhadap Ketua Umum PSSI Mochamad Iriawan (Iwan Bule) terkait tragedi Kanjuruhan.',\n",
              " 'Ketua Umum PSSI, Mochamad Iriawan alias Iwan Bule bakal diperiksa terkait tragedi di Stadion Kanjuruhan. https://t.co/DKfMQCfJHm',\n",
              " 'Anggota DPR RI Fadli Zon mendadak minta Ketua PSSI Mochamad Iriawan atau disapa Iwan Bule bersama jajarannya untuk mundur jabatannya.\\n\\nhttps://t.co/W77QwqHIJj\\n\\n#AnggotaDPRRI #FadliZon #KetumPSSI #IwanBule #MochamadIriawan #TimnasIndonesia #ShinTaeYong #IndraSjafri #KetuaPSSI',\n",
              " 'Pesan untuk Shin Tae-yong: Jangan Terlibat Politik PSSI https://t.co/wtgVuKvYrp baca juga berita dari media lainnya di Indonesia di https://t.co/GkwQxScVr9 \\n\\n#shintaeyong #timnasindonesia #pssi #mochamadiriawan #iwanbule #vivabola',\n",
              " 'Tak Hanya Desak Mochamad Iriawan Mundur, Ketua PSTI Juga Minta PSSI Reformasi Semua Pengurus',\n",
              " 'https://t.co/dKvge01DoS : Tak Hanya Desak Mochamad Iriawan Mundur, Ketua PSTI Juga Minta PSSI Reformasi Semua Pengurus https://t.co/RBAccWkATZ',\n",
              " 'Masalahnya Ketua PSSI Mochamad Iriawan emangnya mau mundur? https://t.co/HtqArBuB4K',\n",
              " '@OngisnadeNet Fokus dengan otoposi korban &amp;  mempertahankan ketum PSSI Mochamad Iriawan. Hati hati Jangan sampai kasus ini bias, karena kasus Narkoba &amp; Judi Online sudah diledakan. Semoga kasus kanjuruhan tidak redup &amp; tenggelam. Saat ibu pertiwi menangis maka kami akan menghapus air matanya👌 https://t.co/uHMfPlmbCl',\n",
              " '@VIVAcoid Fokus dengan otoposi korban &amp;  mempertahankan ketum PSSI Mochamad Iriawan. Hati hati Jangan sampai kasus ini bias, karena kasus Narkoba &amp; Judi Online sudah diledakan. Semoga kasus kanjuruhan tidak redup &amp; tenggelam. Saat ibu pertiwi menangis maka kami akan menghapus air matanya👌 https://t.co/ylK41707KY',\n",
              " 'Pakar Sepakbola Vietnam Kritisi Kedekatan Shin Tae-yong dengan Mochamad Iriawan #LengkapCepatBeritanya #Bola #SepakBola #SepakbolaDunia #BolaDunia . https://t.co/ga4ROJatAU',\n",
              " '2 pemain Borneo FC mengikuti TC di Turki &amp; Spanyol selama dua bukan, begini pesan Ketua Umum PSSI Mochamad Iriawan #DaffaFasya https://t.co/h2QhlFtVmI',\n",
              " 'Ketum PSSI Mochamad Iriawan: Kita Harus\\xa0Siap https://t.co/Wed2eAbQY7',\n",
              " 'Inilah kalimat Ketua Umum PSSI Mochamad Iriawan saat melepas keberangkatan para pemain Timnas U-20 Indonesia melakukan TC di Turki Spanyol. #PSSI https://t.co/oy0tF8dmtf',\n",
              " '@iIhamzada @PorosHalangID @_BangFu Fokus dengan otoposi korban &amp;  mempertahankan ketum PSSI Mochamad Iriawan. Hati hati Jangan sampai kasus ini bias, karena kasus Narkoba &amp; Judi Online sudah diledakan. Semoga kasus kanjuruhan tidak redup &amp; tenggelam. Saat ibu pertiwi menangis maka kami akan menghapus air matanya👌 https://t.co/uy3uPoK4Hj',\n",
              " 'Efek Tragedi Kanjuruhan, Kepolisian Klaim Tak Akan Gunakan Gas Air Mata di Sepak Bola https://t.co/sGeqlP06cW baca juga berita dari media lainnya di Indonesia di https://t.co/GkwQxRUMd1 \\n\\n#tragedikanjuruhan #kepolisian #sepakbola #mochamadiriawan #pssi #liga1 #mahfudmd',\n",
              " 'Sederet Sensasi Mochamad Iriawan Selama Pimpin PSSI https://t.co/5OCnIGyVsk https://t.co/b0kHGHkUmd',\n",
              " 'Mochamad Iriawan minta Pemain Timnas U-20 Tak Aneh-Aneh\\xa0#Timnas https://t.co/4K4Po3XTQI',\n",
              " 'Mochamad Iriawan Minta Pemain Timnas U-20 Tak Aneh-Aneh https://t.co/OcMMXy1cFg baca juga berita dari media lainnya di Indonesia di https://t.co/GkwQxRUMd1 \\n\\n#mochamadiriawan #pssi #shintaeyong #timnasu20indonesia',\n",
              " 'Mochamad Iriawan Minta Pemain Timnas U-20 Tak Aneh-Aneh\\nhttps://t.co/2PQhr5EaMt',\n",
              " 'Anggota Komisi III DPR RI, Arteria Dahlan, mendesak agar Ketua Umum PSSI Mochamad Iriawan atau Iwan  #berita #menarik https://t.co/2ib1eHdDIK',\n",
              " 'Timnas Indonesia U-20 tengah menjalani pemusatan latihan (TC) di Turki dan Spanyol. Dalam TC itu, Timnas Indonesia U-20 membawa pekerjaan rumah yang diberikan oleh Ketua Umum (Ketum) PSSI, Mochamad Iriawan. #PSSI \\n\\nhttps://t.co/n39LFrIAXR',\n",
              " 'Ketua Umum PSSI Mochamad Iriawan meminta para pemain Timnas Indonesia U-20 agar tidak mencoreng nama tim dan bangsa selama menjalani pemusatan latihan di Eropa. https://t.co/9zBvPnRF3s',\n",
              " 'PSTI mengatakan kehilangan Shin Tae-yong dan Mochamad Iriawan bukan kerugian besar. Sebab, pengelolaan sepakbola Indonesia pastinya akan ada kemajuan setelah revolusi PSSI.\\n\\nSimak infografis selengkapnya.\\n\\n#GTV #ShinTaeYong #PSSI #PSTI #TimnasIndonesia #SepakBola https://t.co/YCJR1uwQKc',\n",
              " 'Ketua Umum PSSI Mochamad Iriawan meminta para pemain Timnas Indonesia U-20 agar tidak mencoreng nama tim dan bangsa selama menjalani pemusatan latihan di Eropa. https://t.co/v7sVG1epSq',\n",
              " 'Ketua Umum PSSI Mochamad Iriawan meminta para pemain Timnas Indonesia U-20 agar tidak mencoreng nama tim dan bangsa selama menjalani pemusatan latihan di Eropa. https://t.co/M64Pmpk5Ua',\n",
              " 'Ketua Umum PSSI Mochamad Iriawan meminta para pemain Timnas Indonesia U-20 agar tidak mencoreng nama tim dan bangsa selama menjalani pemusatan latihan di Eropa. https://t.co/2OQ45KuAam',\n",
              " 'TGIPF Tragedi Kanjuruhan Desak Revolusi PSSI, PSTI Minta Mochamad Iriawan Legawa #LengkapCepatBeritanya #Bola #SepakBola #LigaIndonesia #SepakbolaNasional . https://t.co/eVt1GW2RBO',\n",
              " 'Timnas U-20 Akan TC ke Eropa, Ketum PSSI: Jangan Aneh-aneh! https://t.co/FnVG30962g baca juga berita dari media lainnya di Indonesia di https://t.co/GkwQxRUMd1 \\n\\n#timnasindonesiau20 #pssi #mochamadiriawan',\n",
              " 'Kadek Arel Dkk TC Timnas U-20 ke Turki &amp; Spanyol, Ketua Umum PSSI Mochamad Iriawan alias Iwan Bule ungkap target besar #kadekarel https://t.co/3d4jcaWPwI',\n",
              " 'Dinilai Keras Kepala, Pakar Vietnam Tak Setuju Shin Tae-yong Jadi Pengganti Park Hang-seo https://t.co/9pXoEfY9o6 baca juga berita dari media lainnya di Indonesia di https://t.co/GkwQxScVr9 \\n\\n#timnasindonesia #pssi #timnasvietnam #parkhangseo #shintaeyong #mochamadiriawan',\n",
              " 'Pemerintah tidak akan ikut mendesak Ketua Umum PSSI Mochamad Iriawan alias Iwan Bule mundur dari jab #berita #menarik https://t.co/8lwZCx6Qk4',\n",
              " 'Tim Gabungan Independen Pencari Fakta (TGIPF) Tragedi Kanjuruhan merekomendasikan Ketum PSSI Mochamad Iriawan alias Iwan Bule mundur.\\n\\nCredit photo : Antara, https://t.co/e8KMSExNGu, Instagram @mohmahfudmd\\n\\n#genpico #pssi https://t.co/DFhiZnO6Qw',\n",
              " 'Ketua Asprov, Exco PSSI, Anggota DPR, CEO PSIS!!!\\n \\nAgum Gumelar , Nurdin Halid, Djohar Arifin Husin, La Nyalla Mattalitti, Edy Rahmayadi, Joko Driyono , Iwan Budiant, Mochamad Iriawan\\n\\nSampai disini paham ndak? Ibul mundur ki yo ngaruh apa2. https://t.co/xjbqzAQB1S',\n",
              " 'UPDATE\\n\\nKetua umum PSSI, Mochamad Iriawan dalam sebuah konpers sudah meminta maaf dan menyatakan akan BERTANGGUNG JAWAB.\\n\\nSekali lagi, surat rekomendasi TGIPF adalah jelas: Membersihkan PSSI dan Exco. Titik. #MC https://t.co/wCt3nfEYUX',\n",
              " ', JAKARTA - Sosok Ketua Umum PSSI Mochamad Iriawan atau yang kerap disapa Iwan Bule itu kembali menj #berita #nasional https://t.co/pByczzGlql',\n",
              " 'Sudah Terpojok, Ini 3 Alasan Ketum PSSI Harus Segera Mundur https://t.co/tbfHzccFb2 baca juga berita dari media lainnya di Indonesia di https://t.co/GkwQxScVr9 \\n\\n#mochamadiriawan #ketumpssi #pssi #tgipf #mahfudmd',\n",
              " 'Dalam salah satu rekomendasinya, Ketum PSSI Mochamad Iriawan dan jajaran Exco PSSI harus mundur.\\n\\n#ShootingStarJKT \\n#YetToComeinBUSAN \\nBORN PINK WORLD TOUR \\n15 Oktober\\nKoh Steven \\nNassar \\ntroye sivan https://t.co/92oQMLXyrL',\n",
              " \"Dalam salah satu rekomendasinya, Ketum PSSI Mochamad Iriawan dan jajaran Exco PSSI harus mundur.\\n\\n#BORNPINKinSeoul_DDAY \\n#LISA \\nD'Masiv \\nBORN PINK WORLD TOUR \\nBunda Corla \\nRest in Love https://t.co/0o5bEXAbbX\",\n",
              " 'Pengamat sepak bola Indonesia, Kesit Budi Handoyo, menyayangkan sikap Asnawi Mangkualam dan Shin Tae-yong menyoal dukungannya terhadap Mochamad Iriawan.\\n\\nhttps://t.co/2dkYQAlIoI',\n",
              " 'Banyak Dorongan Agar Iwan Bule Mundur dari PSSI, Mahfud MD: Kita Tidak Bisa Paksa Berhenti Secara Hukum https://t.co/0ag2HXBz6L #MochamadIriawan #KetuaUmumPssi #MahfudMd #Pssi',\n",
              " 'Ketua Umum (Ketum) PSSI, Mochamad Iriawan dan jajaran Komite Eksekutif (Exco) PSSI dipersilakan mundur oleh Tim Gabungan Independen Pencari Fakta (TGIPF) tragedi Kanjuruhan #ThePhraseID #TGIPF #PSSI #TragediKanjuruan https://t.co/leHnds0aDF',\n",
              " 'Beda dengan Sang Ketum, Pejabat PSSI Ini Nyatakan Siap Mundur https://t.co/UyRn4xuoIR baca juga berita dari media lainnya di Indonesia di https://t.co/GkwQxRUMd1 \\n\\n#pssi #ligaindonesia #iwanbule #mochamadiriawan #tgipf #tgipftragedikanjuruhan',\n",
              " 'https://t.co/CrUryU0NvC\\n\\nTim Gabungan Independen Pencari Fakta (TGIPF) mengeluarkan sembilan rekomendasi. Ketua Umum PSSI Mochamad Iriawan dan para anggota Exco diminta mundur.',\n",
              " 'Dalam salah satu rekomendasinya, Ketum PSSI Mochamad Iriawan dan jajaran Exco PSSI harus mundur.\\n\\n#NoBraDay2022 \\n#SHUTDOWN \\nBORN PINK WORLD TOUR \\nI LOVE YOU \\nKapolda \\nRIP Legend https://t.co/bSuUWTyxbz',\n",
              " 'Deretan Negara yang Pernah Bubarkan Federasi Sepak Bolanya, PSSI Berikutnya? https://t.co/Yphm6Vlgg1 baca juga berita dari media lainnya di Indonesia di https://t.co/GkwQxRUMd1 \\n\\n#pssi #mahfudmd #mochamadiriawan #tgipf #tgipftragedikanjuruhan',\n",
              " 'Rekomendasi TGIPF: Ketum PSSI dan Jajaran Exco Sepatutnya Mundur https://t.co/VsNgQBMT0z baca juga berita dari media lainnya di Indonesia di https://t.co/GkwQxRUMd1 \\n\\n#pssi #mochamadiriawan #ketumpssi #tragedikanjuruhan #tgipf #hasiltgipf',\n",
              " 'Jajaran PSSI Pusat diminta untuk mundur ramai-ramai sebagai bentuk tanggung jawab Tragedi Kanjuruhan. Berikut susunan kepengurusan PSSI era Mochamad Iriawan! https://t.co/D7qo1vgEyX',\n",
              " 'Ketua Umum PSSI Mochamad Iriawan atau Iwan Bule diminta mundur bersama jajaran pengurus PSSI oleh Tim TGIPF. https://t.co/BY0vNteAgY',\n",
              " 'Semua Akses Keluar Dijaga Wartawan, Ketum PSSI Kabur lewat Pintu Ajaib https://t.co/5zB8hdw22Z baca juga berita dari media lainnya di Indonesia di https://t.co/GkwQxRUMd1 \\n\\n#excopssi #ketuaumumpssi #pssi #mochamadiriawan #tgipf #tragedikanjuruhan',\n",
              " 'Saran TGIPF untuk meminta Ketum PSSI Mochamad Iriawan mundur secara tidak langsung menyetujui Shin Tae Yong meninggalkan Timnas Indonesia. #TGIPF https://t.co/4sw6rDUGmp',\n",
              " 'Ketum PSSI Gocek Wartawan, Tak Terlihat Keluar Kantor Bak Lewat Pintu Rahasia https://t.co/qyJsErFWoe baca juga berita dari media lainnya di Indonesia di https://t.co/GkwQxRUMd1 \\n\\n#ketumpssi #pssi #mochamadiriawan #tragedikanjuruhan #tgipf',\n",
              " 'Iwan Bule Didesak Mundur, Exco PSSI: Kalau Anda Mundur Itu Tidak Jantan: Anggota Komite Eksekutif (Exco) PSSI,\\xa0Sonhadji\\xa0menanggapi terkait desakan mundur yang ditujukan kepada Mochamad… https://t.co/j5gFiqgOKu #News #iwanbule #mochamadiriawan #tragedikanjuruhan #sonhadji',\n",
              " 'PSSI officials form Kanjuruhan Stadium Tragedy Football Transformation Task Force. PSSI Chairman Mochamad Iriawan announced it after meeting with officials from FIFA, AFC, police and ministries in Senayan, Central Jakarta on Thursday (10/13). #SEAToday #PSSI #Kanjuruhan https://t.co/oghQKcCvbk',\n",
              " 'Wartawan yang Naik ke Lantai 6 GBK Arena Kena Hadang Pihak PSSI https://t.co/ITDMGK5ruC baca juga berita dari media lainnya di Indonesia di https://t.co/GkwQxScVr9 \\n\\n#mahfudmd #pssi #mochamadiriawan',\n",
              " \"This is outlined in point one of the TGIPF report's conclusions released on Friday (October 14).\\n\\n  TGIPF has asked PSSI Chairman Mochamad Iriawan and PSSI Executive Committee to resign. PSSI must hold Extraordinary General Meeting .\\n\\n[2/2]\",\n",
              " '#Terpopuler Lini masa Twitter masih ramai buntut pelatih Shin Tae-yong membuka wacana mundur. Banyak yang mencerca Ketum PSSI Mochamad Iriawan, banyak juga yang membelanya. https://t.co/8trKFJpWmE',\n",
              " '“Terserah Shin Tae-yong” https://t.co/coADZFnLSX baca juga berita dari media lainnya di Indonesia di https://t.co/GkwQxScVr9 \\n\\n#mochamadiriawan #pssi #shintaeyong #timnasindonesia',\n",
              " 'PSSI  Kerap Lepas Tangan Kalau Ada Masalah https://t.co/G5HNYZ92qW baca juga berita dari media lainnya di Indonesia di https://t.co/GkwQxScVr9 \\n\\n#mochamadiriawan #pssi #tragedikanjuruhan',\n",
              " 'Ketum PSSI Mochamad Iriawan menolak bila PSSI harus bertanggung jawab atas Tragedi Kanjuruhan, begini alasannya. #TempoNasional https://t.co/MDw8aNJHcJ',\n",
              " 'Disebut Ada Arahan Pemain Timnas Bela Mochamad Iriawan, Begini Kata PSSI\\xa0#Timnas https://t.co/UgwQmueueQ',\n",
              " 'Disebut Ada Arahan Pemain Timnas Bela Mochamad Iriawan, Begini Kata PSSI\\nhttps://t.co/mdD6NdFR1H',\n",
              " 'Tim Gabungan Independen Pencari Fakta (TGIPF) mengeluarkan sembilan rekomendasi. Ketua Umum PSSI Mochamad Iriawan dan para anggota Exco diminta mundur. Simak 9 poin tersebut! https://t.co/kCE1GHHD9P',\n",
              " 'Satu di antara poin yang ditulis adalah ketua umum Mochamad Iriawan bersama anggota komite eksekutif (Exco) PSSI mundur dari jabatannya.\\n\\n#Liga1 #PSSI #LIB #Arema #Aremania #Kanjuruhan\\n\\nhttps://t.co/FTNRTLYLTK',\n",
              " '3 Dampak Negatif bagi Shin Tae-yong usai Ancam Mundur dari Timnas Indonesia https://t.co/rp0eunzrri baca juga berita dari media lainnya di Indonesia di https://t.co/GkwQxScVr9 \\n\\n#shintaeyong #mochamadiriawan #pssi #timnasindonesia #tragedikanjuruhan',\n",
              " 'Pelatih Timnas Indonesia, Shin Tae-yong, sempat menghebohkan publik dengan statement-nya yang menyatakan bakal mundur jika Mochamad Iriawan tak lagi menjabat sebagai Ketua Umum PSSI.\\nhttps://t.co/yYoKUngXOA',\n",
              " 'Mochamad Iriawan Trauma \"Dibombardir\" Media\\nhttps://t.co/QAdxdfM7x1',\n",
              " 'Tim Gabungan Independen Pencari Fakta (TGIPF) Tragedi Kanjuruhan mengeluarkan rekomendasi untuk PSSI. Satu di antara poin yang ditulis adalah ketua umum Mochamad Iriawan bersama anggota komite eksekutif (Exco) PSSI mundur dari jabatannya. https://t.co/ooaUYDWBYc',\n",
              " 'diusut. Termasuk panitia pelaksana yang tak membuka pintu stadion.\\n\\n4. Suporter yang melakukan aksi provokasi juga harus diusut. Suporter juga dianggap ikut berperan dalam terjadinya Tragedi Kanjuruhan.\\n\\n5. Ketua Umum PSSI Mochamad Iriawan alias Iwan Bule beserta seluruh jajaran https://t.co/rUZcKbfnCX',\n",
              " 'Dalam laporannya kepada Presiden Joko Widodo, Tim Gabungan Independen Pencari Fakta (TGIPF) Tragedi Kanjuruhan\\xa0memberi rekomendasi agar Ketua Umum PSSI Mochamad Iriawan dan pengurus PSSI, 𝗺𝘂𝗻𝗱𝘂𝗿.\\nhttps://t.co/avzdG7tGLk',\n",
              " 'TGIPF Tuntut PSSI Tanggung Jawab Moral atas Tragedi Kanjuruhan, Mahfud MD Persilakan Mochamad Iriawan Mundur? | Liga Indonesia - https://t.co/eSrYVd27C1 https://t.co/EysSF8EMHK',\n",
              " 'JAKARTA, INEWSBANDUNGRAYA -\\xa0Tim Gabungan Independen Pencari Fakta (TGIPF)\\xa0tragedi Kanjuruhan\\xa0mengeluarkan\\xa012 rekomendasi\\xa0kepada\\xa0PSSI.\\n\\nhttps://t.co/NANrfVnwZB\\n\\n#kanjuruhandisaster #arema #tgipf #ketumpssi #pssi #menkopolhukam #mochamadiriawan #iwanbule #mahfudmd https://t.co/RcvDaaq3jp',\n",
              " 'JAKARTA, INEWSBANDUNGRAYA -\\xa0Ketua Umum\\xa0PSSI,\\xa0Mochamad Iriawan\\xa0telah menyampaikan\\xa0permintaan maaf\\xa0dan mengaku bertanggung jawab atas\\xa0tragedi Kanjuruhan\\xa0yang mengakibatkan ratusan nyawa menghilang.\\nhttps://t.co/JkGGBuR4Bd\\n\\n#iwanbule #mochamadiriawan #pssi #kanjuruhandisaster #arema https://t.co/sDNyqlwDfR',\n",
              " 'TGIPF Rekomendasikan Mochamad Iriawan dan Exco Mundur, PSSI Gelar Rapat  https://t.co/pLNEQz7IWH',\n",
              " 'Jajaran PSSI Pusat diminta untuk mundur ramai-ramai sebagai bentuk tanggung jawab Tragedi Kanjuruhan. Berikut susunan kepengurusan PSSI era Mochamad Iriawan! https://t.co/1w3AwRPxsK',\n",
              " 'Jajaran PSSI Pusat diminta untuk mundur ramai-ramai sebagai bentuk tanggung jawab Tragedi Kanjuruhan. Berikut susunan kepengurusan PSSI era Mochamad Iriawan! https://t.co/OI5FsmGtg1',\n",
              " 'Jajaran PSSI Pusat diminta untuk mundur ramai-ramai sebagai bentuk tanggung jawab Tragedi Kanjuruhan. Berikut susunan kepengurusan PSSI era Mochamad Iriawan! https://t.co/OI5FsmYCu9',\n",
              " 'Rekomendasi Tim Gabungan Independen Pencari Fakta (TGIPF) Tragedi Kanjuruhan\\xa0ialah meminta agar\\xa0Ketua Umum PSSI, Mochamad Iriawan atau Iwan Bule\\xa0dan pengurus PSSI mundur dalam laporan kepada Presiden Joko Widodo (Jokowi)\\nhttps://t.co/7CVKQbvkF3',\n",
              " 'Diminta TGIPF Mundur, Ketum PSSI Mochamad Iriawan dan Exco PSSI Segera Letakkan Jabatan?\\n\\nhttps://t.co/5As6AmmgPM',\n",
              " 'Mochamad Iriawan dan Exco PSSI Diminta Mengundurkan Diri? Berikut Hasil Laporan TGIPF Kanjuruhan #IwanBule \\n\\nhttps://t.co/S1ISiobisy',\n",
              " 'Mochamad Iriawan didesak mundur dari Ketua Umum PSSI. Menilik sisi lainnya, bagaimana selera otomotif eks Kapolda Metro Jaya ini? https://t.co/nG5cOJ7k0M',\n",
              " '9 Garis Besar Kesimpulan dan Rekomendasi TGIPF Soal Tragedi Kanjuruhan https://t.co/ApSwUi0bXj baca juga berita dari media lainnya di Indonesia di https://t.co/GkwQxRUMd1 \\n\\n#tgipf #tgipftragedikanjuruhan #tragedikanjuruhan #mahfudmd #jokowi #pssi #ketuaumumpssi #mochamadiriawan',\n",
              " 'Mahfud MD Minta Iwan Bule dan Seluruh Exco PSSI Mundur! https://t.co/ZymRPBWHgN baca juga berita dari media lainnya di Indonesia di https://t.co/GkwQxScVr9 \\n\\n#mahfudmd #mochamadiriawan #pssi #tragedikanjuruhan',\n",
              " 'Tragedi Kanjuruhan Terjadi Karena PSSI Tak Profesional, KLB Segera Digelar.#klb #PSSI #TragediKanjuruhan #IwanBule #mochamadiriawan #ptlib #briliga1 #mahfudmd #sepakbola #opsimediatv\\n\\nhttps://t.co/QMBixTnH8q',\n",
              " 'Rekomendasi itu terdiri dari sembilan poin. Di mana salah satu poinnya meminta Ketua Umum, Mochamad Iriawan alias Iwan Bule dan seluruh Komite Eksekutif PSSI mundur.\\n\\nhttps://t.co/TkXVPeo4DX',\n",
              " '@kompascom yang harus mundur di @PSSI adalah:\\n- Ketum PSSI, Mochamad Iriawan @iriawan84 dan Exco PSSI..\\n- Ketua PSSI Jatim, Ahmad Riyadh..',\n",
              " 'Jurnalis Vietnam, Vo Ut Dat, terheran-heran dengan desakan mundur yang diinginkan suporter Indonesia terhadap Ketua Umum PSSI, Mochamad Iriawan. Mengapa? https://t.co/6WFrKiUsmO',\n",
              " '@ainurohman selain Ketum @PSSI, Mochamad Iriawan, maka Ketua PSSI Jatim, Ahmad Riyadh juga harus bertanggung jawab...!!\\n\\nKetua PSSI Jatim harus mundur juga..!!\\n\\n@jokowi \\n@mohmahfudmd \\n@PolhukamRI',\n",
              " 'MantaaPD pk @mohmahfudmd 👍👍👍https://t.co/scxkJweP5e\\n\\nTim Gabungan Independen Pencari Fakta (TGIPF) mengeluarkan sembilan rekomendasi. Ketua Umum PSSI Mochamad Iriawan dan para anggota Exco diminta mundur.',\n",
              " 'TGIPF Minta Ketua Umum PSSI Mochamad Iriawan\\xa0Mundur https://t.co/uHgw9XmgaV',\n",
              " 'Selain itu, TGIPF juga meminta Ketua Umum PSSI Mochamad Iriawan atau Iwan Bule beserta seluruh jajaran Komite Eksekutif PSSI mengundurkan diri. https://t.co/0I5gUKJt1b']"
            ]
          },
          "metadata": {},
          "execution_count": 12
        }
      ]
    },
    {
      "cell_type": "markdown",
      "source": [
        "Selanjutnya install sastrawi di mana satraei berfungsi untuk mengurangi kata-kata yang terinfleksi dalam Bahasa Indonesia ke bentuk dasarnya"
      ],
      "metadata": {
        "id": "jlrBb0o9Nyvr"
      }
    },
    {
      "cell_type": "code",
      "source": [
        "!pip install Sastrawi"
      ],
      "metadata": {
        "id": "xeqqY0rz3165",
        "outputId": "6df88300-902d-4694-89a0-edda2761de41",
        "colab": {
          "base_uri": "https://localhost:8080/"
        }
      },
      "execution_count": 13,
      "outputs": [
        {
          "output_type": "stream",
          "name": "stdout",
          "text": [
            "Looking in indexes: https://pypi.org/simple, https://us-python.pkg.dev/colab-wheels/public/simple/\n",
            "Collecting Sastrawi\n",
            "  Downloading Sastrawi-1.0.1-py2.py3-none-any.whl (209 kB)\n",
            "\u001b[K     |████████████████████████████████| 209 kB 6.8 MB/s \n",
            "\u001b[?25hInstalling collected packages: Sastrawi\n",
            "Successfully installed Sastrawi-1.0.1\n"
          ]
        }
      ]
    },
    {
      "cell_type": "markdown",
      "source": [
        "Lalu gunakan perintah di bawah ini untuk menghapus semua karakter tidak dapat dicetak dari teks"
      ],
      "metadata": {
        "id": "110I5L8GO0Nr"
      }
    },
    {
      "cell_type": "code",
      "source": [
        "import re\n",
        "import string\n",
        "from Sastrawi.Stemmer.StemmerFactory import StemmerFactory# create stemmer\n",
        "factory = StemmerFactory()\n",
        "stemmer = factory.create_stemmer()# stemming process\n",
        "# import StopWordRemoverFactory class\n",
        "from Sastrawi.StopWordRemover.StopWordRemoverFactory import StopWordRemoverFactory\n",
        "factory = StopWordRemoverFactory()\n",
        "stopword = factory.create_stop_word_remover()\n",
        "documents_clean=[]\n",
        "\n",
        "for d in datatw:\n",
        "    outputstem= stemmer.stem(d)\n",
        "    d= stopword.remove(outputstem)\n",
        "    # Remove Unicode\n",
        "    document_test = re.sub(r'[^\\x00-\\x7F]+', ' ', d)\n",
        "    # Remove Mentions\n",
        "    document_test = re.sub(r'@\\w+', '', document_test)\n",
        "    # Lowercase the document\n",
        "    document_test = document_test.lower()\n",
        "    # Remove punctuations\n",
        "    document_test = re.sub(r'[%s]' % re.escape(string.punctuation), ' ', document_test)\n",
        "    # Lowercase the numbers\n",
        "    document_test = re.sub(r'[0-9]', '', document_test)\n",
        "    # Remove the doubled space\n",
        "    outputstop = re.sub(r'\\s{2,}', ' ', document_test)\n",
        "    documents_clean.append(outputstop)"
      ],
      "metadata": {
        "id": "yhu7e8JA3pz9"
      },
      "execution_count": 14,
      "outputs": []
    },
    {
      "cell_type": "markdown",
      "source": [
        "Kemudian gunakan perintah documents_clean untuk menampilkan dokumen"
      ],
      "metadata": {
        "id": "MFpPXDN2O-uL"
      }
    },
    {
      "cell_type": "code",
      "source": [
        "documents_clean[0:5]"
      ],
      "metadata": {
        "colab": {
          "base_uri": "https://localhost:8080/"
        },
        "id": "CTgCc8eo59vM",
        "outputId": "69de79d8-84ec-4e33-f886-4813109a9485"
      },
      "execution_count": 15,
      "outputs": [
        {
          "output_type": "execute_result",
          "data": {
            "text/plain": [
              "['polri periksa ketua umum pssi mochamad iriawan alias iwan bule kait tragedi stadion kanjuruhan malang jawa timur selasa besok polda jatim https t co kgzvomu',\n",
              " 'pesan tum pssi timnas u indonesia jelang tc eropa jaga nama baik indonesia https t co vnupkfmo baca berita media indonesia di https t co gkwqxscvr pssi mochamadiriawan tc timnasuindonesia',\n",
              " 'meski ferli papar potensi rawan laga tetap gelar malam hari sudjarno tak gubris sudjarno rupa rekan angkat ketua umum pssi komjen purn mochamad iriawan akpol minta tanding tetap gelar pukul wib specialreport',\n",
              " 'pssi legawa terima kalah qatar jadi tuan rumah piala asia https t co kjytjwkuao baca berita media indonesia di https t co gkwqxrumd pialaasia pialaasia afc pssi mochamadiriawan',\n",
              " 'latih timnas indonesia shin tae yong bela ketua umum pssi mochamad iriawan indikasi intervensi pihak benar https t co qamqqki']"
            ]
          },
          "metadata": {},
          "execution_count": 15
        }
      ]
    },
    {
      "cell_type": "markdown",
      "source": [
        "import TfidfVectorizer yang berfungsi sebagai normalisasi nilai bobot yang diperoleh, supaya nilai bobot berada pada range yang sama."
      ],
      "metadata": {
        "id": "ZUlwwltkPjLq"
      }
    },
    {
      "cell_type": "code",
      "source": [
        "from sklearn.feature_extraction.text import TfidfVectorizer\n",
        "import pandas as pd\n",
        "tfidfvectorizer = TfidfVectorizer(analyzer='word')\n",
        "tfidf_wm = tfidfvectorizer.fit_transform(documents_clean)\n",
        "tfidf_tokens = tfidfvectorizer.get_feature_names()\n"
      ],
      "metadata": {
        "colab": {
          "base_uri": "https://localhost:8080/"
        },
        "id": "z8LdQN7K7nQ3",
        "outputId": "82231ce6-a586-43c5-ef13-4771874f3e4a"
      },
      "execution_count": 16,
      "outputs": [
        {
          "output_type": "stream",
          "name": "stderr",
          "text": [
            "/usr/local/lib/python3.7/dist-packages/sklearn/utils/deprecation.py:87: FutureWarning: Function get_feature_names is deprecated; get_feature_names is deprecated in 1.0 and will be removed in 1.2. Please use get_feature_names_out instead.\n",
            "  warnings.warn(msg, category=FutureWarning)\n"
          ]
        }
      ]
    },
    {
      "cell_type": "markdown",
      "source": [
        "Kemudian import juga CountVectorizer untuk menghitung frekuensi kata dalam dokumen. Count Vectorizer dapat mengubah fitur teks menjadi sebuah representasi vector."
      ],
      "metadata": {
        "id": "MqgbVFC4P_Bj"
      }
    },
    {
      "cell_type": "code",
      "source": [
        "from sklearn.feature_extraction.text import CountVectorizer \n",
        "import matplotlib.pyplot as plt\n",
        "import numpy as np # linear algebra\n",
        "import pandas as pd # data processing, CSV file I/O (e.g. pd.read_csv)\n",
        "cv = CountVectorizer()\n",
        "words = cv.fit_transform(documents_clean)\n",
        "sum_words = words.sum(axis=0)\n",
        "\n",
        "\n",
        "words_freq = [(word, sum_words[0, idx]) for word, idx in cv.vocabulary_.items()]\n",
        "words_freq = sorted(words_freq, key = lambda x: x[1], reverse = True)\n",
        "frequency = pd.DataFrame(words_freq, columns=['word', 'freq'])\n",
        "\n",
        "color = plt.cm.twilight(np.linspace(0, 1, 20))\n",
        "frequency.head(20).plot(x='word', y='freq', kind='bar', figsize=(15, 7), color = color)\n",
        "plt.title(\"Most Frequently Occuring Words - Top 20\")"
      ],
      "metadata": {
        "colab": {
          "base_uri": "https://localhost:8080/",
          "height": 420
        },
        "id": "LXoRtAIc7vAE",
        "outputId": "0a6acd5c-a807-498c-dd80-420a22c234c8"
      },
      "execution_count": 17,
      "outputs": [
        {
          "output_type": "execute_result",
          "data": {
            "text/plain": [
              "Text(0.5, 1.0, 'Most Frequently Occuring Words - Top 20')"
            ]
          },
          "metadata": {},
          "execution_count": 17
        },
        {
          "output_type": "display_data",
          "data": {
            "text/plain": [
              "<Figure size 1080x504 with 1 Axes>"
            ],
            "image/png": "[encoded data removed]"
          },
          "metadata": {
            "needs_background": "light"
          }
        }
      ]
    },
    {
      "cell_type": "markdown",
      "source": [
        "Lakukkan clustering pada kata tersebut, menggunakan perintah di bawah"
      ],
      "metadata": {
        "id": "vUJSpEhKQz_T"
      }
    },
    {
      "cell_type": "code",
      "source": [
        "from sklearn.cluster import KMeans\n",
        "true_k = 3\n",
        "model = KMeans(n_clusters=true_k, init='k-means++', max_iter=100, n_init=1)\n",
        "model.fit(words)"
      ],
      "metadata": {
        "colab": {
          "base_uri": "https://localhost:8080/"
        },
        "id": "Sm2OvwbN72L9",
        "outputId": "dedd912c-c67a-4172-9f77-0e37c7192d13"
      },
      "execution_count": 18,
      "outputs": [
        {
          "output_type": "execute_result",
          "data": {
            "text/plain": [
              "KMeans(max_iter=100, n_clusters=3, n_init=1)"
            ]
          },
          "metadata": {},
          "execution_count": 18
        }
      ]
    },
    {
      "cell_type": "markdown",
      "source": [
        "menampilkan kelompok cluster dengan kata kunci yang kita cari diatas tadi"
      ],
      "metadata": {
        "id": "PqbO-ubkRHo7"
      }
    },
    {
      "cell_type": "code",
      "source": [
        "order_centroids = model.cluster_centers_.argsort()[:, ::-1]\n",
        "terms = cv.get_feature_names()\n",
        "\n",
        "for i in range(true_k):\n",
        "    print(\"Cluster %d:\" % i),\n",
        "    for ind in order_centroids[i, :10]:\n",
        "        print(' %s' % terms[ind]),\n",
        "    print\n",
        "\n",
        "print(\"\\n\")"
      ],
      "metadata": {
        "colab": {
          "base_uri": "https://localhost:8080/"
        },
        "id": "l8cJtruV8BX_",
        "outputId": "6950ea2b-ba17-4dad-ff79-2ece6adf3625"
      },
      "execution_count": 19,
      "outputs": [
        {
          "output_type": "stream",
          "name": "stdout",
          "text": [
            "Cluster 0:\n",
            " pssi\n",
            " co\n",
            " https\n",
            " iriawan\n",
            " mochamad\n",
            " ketua\n",
            " mundur\n",
            " umum\n",
            " minta\n",
            " tgipf\n",
            "Cluster 1:\n",
            " amp\n",
            " kasus\n",
            " hati\n",
            " kami\n",
            " pssi\n",
            " mochamad\n",
            " menang\n",
            " moga\n",
            " korban\n",
            " https\n",
            "Cluster 2:\n",
            " co\n",
            " https\n",
            " pssi\n",
            " indonesia\n",
            " mochamadiriawan\n",
            " berita\n",
            " di\n",
            " media\n",
            " baca\n",
            " tgipf\n",
            "\n",
            "\n"
          ]
        },
        {
          "output_type": "stream",
          "name": "stderr",
          "text": [
            "/usr/local/lib/python3.7/dist-packages/sklearn/utils/deprecation.py:87: FutureWarning: Function get_feature_names is deprecated; get_feature_names is deprecated in 1.0 and will be removed in 1.2. Please use get_feature_names_out instead.\n",
            "  warnings.warn(msg, category=FutureWarning)\n"
          ]
        }
      ]
    },
    {
      "cell_type": "markdown",
      "source": [
        "setelah melakukan cluster kita bisa juga melakukan prediction, dimana kata tersebut tergabung dengan kelompok cluster mana saja, "
      ],
      "metadata": {
        "id": "SLGyq7GCSIsj"
      }
    },
    {
      "cell_type": "code",
      "source": [
        "print(\"Prediction\")\n",
        "Y = cv.transform([\"iwan bule\"])\n",
        "prediction = model.predict(Y)\n",
        "print(\"Cluster number :\", prediction)\n",
        "Y = cv.transform([\"ketua pssi\"])\n",
        "prediction = model.predict(Y)\n",
        "print(\"Cluster number :\", prediction)"
      ],
      "metadata": {
        "colab": {
          "base_uri": "https://localhost:8080/"
        },
        "id": "oiQrlUlN8OS3",
        "outputId": "31fe7310-4f06-4740-e7e4-31db95b762ce"
      },
      "execution_count": 20,
      "outputs": [
        {
          "output_type": "stream",
          "name": "stdout",
          "text": [
            "Prediction\n",
            "Cluster number : [0]\n",
            "Cluster number : [0]\n"
          ]
        }
      ]
    },
    {
      "cell_type": "code",
      "source": [
        "import scipy.cluster.hierarchy as sch\n",
        "X = cv.fit_transform(documents_clean).todense()\n",
        "dendrogram = sch.dendrogram(sch.linkage(X, method = 'ward',metric='euclidean'),orientation=\"top\")\n",
        "plt.title('Dendrogram')\n",
        "plt.xlabel('Jarak Ward')\n",
        "plt.ylabel('Nomor Dokumen')\n",
        "plt.show()"
      ],
      "metadata": {
        "colab": {
          "base_uri": "https://localhost:8080/",
          "height": 292
        },
        "id": "E0sVogkF8SKT",
        "outputId": "4fdb13d7-cccc-4ebc-c382-18982d2f79fa"
      },
      "execution_count": 26,
      "outputs": [
        {
          "output_type": "display_data",
          "data": {
            "text/plain": [
              "<Figure size 432x288 with 1 Axes>"
            ],
            "image/png": "[encoded data removed]"
          },
          "metadata": {
            "needs_background": "light"
          }
        }
      ]
    },
    {
      "cell_type": "code",
      "source": [
        "import scipy.cluster.hierarchy as sch\n",
        "X = cv.fit_transform(documents_clean).todense()\n",
        "dendrogram = sch.dendrogram(sch.linkage(X, method = 'average',metric='euclidean'),orientation=\"right\")\n",
        "plt.title('Dendrogram')\n",
        "plt.xlabel('Jarak Rerata')\n",
        "plt.ylabel('Nomor Dokumen')\n",
        "plt.show()"
      ],
      "metadata": {
        "colab": {
          "base_uri": "https://localhost:8080/",
          "height": 295
        },
        "id": "noaIhCnt8dAw",
        "outputId": "459a6db1-2f49-416b-924a-a62781171a31"
      },
      "execution_count": 27,
      "outputs": [
        {
          "output_type": "display_data",
          "data": {
            "text/plain": [
              "<Figure size 432x288 with 1 Axes>"
            ],
            "image/png": "[encoded data removed]"
          },
          "metadata": {
            "needs_background": "light"
          }
        }
      ]
    },
    {
      "cell_type": "markdown",
      "source": [
        "https://www.freecodecamp.org/news/python-web-scraping-tutorial/\n",
        "https://medium.com/dataseries/how-to-scrape-millions-of-tweets-using-snscrape-195ee3594721"
      ],
      "metadata": {
        "id": "gnHGGgt2M-ia"
      }
    }
  ]
}